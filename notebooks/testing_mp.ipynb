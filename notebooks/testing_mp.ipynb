{
 "cells": [
  {
   "cell_type": "code",
   "execution_count": 16,
   "metadata": {},
   "outputs": [
    {
     "name": "stdout",
     "output_type": "stream",
     "text": [
      "ttim installed in /home/david/Github/ttim_db/ttim/__init__.py\n"
     ]
    }
   ],
   "source": [
    "import os\n",
    "import numpy as np\n",
    "import pandas as pd\n",
    "import matplotlib as mpl\n",
    "%matplotlib inline\n",
    "\n",
    "import sys\n",
    "sys.path.insert(1, \"..\")\n",
    "import ttim\n",
    "print(f\"ttim installed in {os.path.abspath(ttim.__file__)}\")"
   ]
  },
  {
   "cell_type": "code",
   "execution_count": 2,
   "metadata": {},
   "outputs": [],
   "source": [
    "ml = ttim.Model3D(kaq=[2, 1, 5, 10, 4], z=[10, 8, 6, 4, 2, 0], \\\n",
    "             Saq=[.1, .0001, .0002, .0002, .0001], \\\n",
    "             phreatictop=True, kzoverkh=0.1, topboundary='conf', \\\n",
    "             tmin=1e-3, tmax=1e3, )\n",
    "w = ttim.Well(ml, 0, -25, rw=.3, tsandQ=[(0, 100)], layers=[2, 3])\n",
    "\n",
    "dxdy = 30 * np.pi / 100 * np.cos(np.pi)\n",
    "y1 = np.arange(-150, -100, 10)\n",
    "x1 = (y1 + 100) * dxdy\n",
    "y2 = np.linspace(-100, 100, 20)\n",
    "x2 = 30 * np.sin(y2 * np.pi / 100)\n",
    "xls = np.hstack((x1, x2))\n",
    "yls = np.hstack((y1, y2))\n",
    "xy = np.array([xls, yls]).T\n",
    "\n",
    "ls1 = ttim.HeadLineSinkString(ml, xy=xy, tsandh='fixed', layers=[0, 1])\n",
    "\n",
    "# create more ls elements offset by +/-dx\n",
    "for dx in [100, 200]:\n",
    "    ttim.HeadLineSinkString(ml, xy=xy + np.array([dx, 0]), \n",
    "                              tsandh='fixed', layers=[0, 1])\n",
    "    ttim.HeadLineSinkString(ml, xy=xy - np.array([dx, 0]), \n",
    "                              tsandh='fixed', layers=[0, 1])"
   ]
  },
  {
   "cell_type": "code",
   "execution_count": 3,
   "metadata": {},
   "outputs": [],
   "source": [
    "ml.initialize()"
   ]
  },
  {
   "cell_type": "code",
   "execution_count": 4,
   "metadata": {},
   "outputs": [
    {
     "data": {
      "image/png": "[encoded data removed]",
      "text/plain": [
       "<Figure size 432x288 with 1 Axes>"
      ]
     },
     "metadata": {
      "needs_background": "light"
     },
     "output_type": "display_data"
    }
   ],
   "source": [
    "ml.plot()"
   ]
  },
  {
   "cell_type": "code",
   "execution_count": 5,
   "metadata": {},
   "outputs": [
    {
     "name": "stdout",
     "output_type": "stream",
     "text": [
      "self.neq  242\n",
      "solution complete\n"
     ]
    }
   ],
   "source": [
    "ml.solve()"
   ]
  },
  {
   "cell_type": "code",
   "execution_count": 6,
   "metadata": {},
   "outputs": [],
   "source": [
    "def solve(ml, returnmat=0, sendback=0, silent=False):\n",
    "    \"\"\"Compute solution\n",
    "\n",
    "    \"\"\"\n",
    "\n",
    "    # Initialize elements\n",
    "    ml.initialize()\n",
    "    # Compute number of equations\n",
    "    ml.neq = np.sum([e.nunknowns for e in ml.elementlist])\n",
    "    if silent is False:\n",
    "        print('ml.neq ', ml.neq)\n",
    "    if ml.neq == 0:\n",
    "        if silent is False:\n",
    "            print('No unknowns. Solution complete')\n",
    "        return\n",
    "    mat = np.empty((ml.neq, ml.neq, ml.npval), 'D')\n",
    "    rhs = np.empty((ml.neq, ml.ngvbc, ml.npval), 'D')\n",
    "    ieq = 0\n",
    "    for e in ml.elementlist:\n",
    "        if e.nunknowns > 0:\n",
    "            mat[ieq:ieq+e.nunknowns, :, :], rhs[ieq:ieq+e.nunknowns, :, :] = e.equation()\n",
    "            ieq += e.nunknowns\n",
    "    if returnmat:\n",
    "        return mat, rhs\n",
    "    for i in range(ml.npval):\n",
    "        sol = np.linalg.solve(mat[:, :, i], rhs[:, :, i])\n",
    "        icount = 0\n",
    "        for e in ml.elementlist:\n",
    "            for j in range(e.nunknowns):\n",
    "                e.parameters[:, j, i] = sol[icount, :]\n",
    "                icount += 1\n",
    "            e.run_after_solve()\n",
    "    if silent is False:\n",
    "        print('solution complete')\n",
    "    elif (silent == 'dot') or (silent == '.'):\n",
    "        print('.', end='', flush=True)\n",
    "    if sendback:\n",
    "        return sol\n",
    "    return"
   ]
  },
  {
   "cell_type": "code",
   "execution_count": 7,
   "metadata": {},
   "outputs": [],
   "source": [
    "import multiprocessing as mp\n",
    "\n",
    "def solve_mp(ml, returnmat=0, sendback=0, nproc=None, silent=False):\n",
    "    \"\"\"Compute solution\n",
    "\n",
    "    \"\"\"\n",
    "\n",
    "    # Initialize elements\n",
    "    ml.initialize()\n",
    "    # Compute number of equations\n",
    "    ml.neq = np.sum([e.nunknowns for e in ml.elementlist])\n",
    "    if silent is False:\n",
    "        print('ml.neq ', ml.neq)\n",
    "    if ml.neq == 0:\n",
    "        if silent is False:\n",
    "            print('No unknowns. Solution complete')\n",
    "        return\n",
    "    \n",
    "    # start multiprocessing\n",
    "    if nproc is None:\n",
    "        nproc = mp.cpu_count() - 1  # make no. of processes equal to 1 less than no. of cores\n",
    "\n",
    "    pool = mp.Pool(processes=nproc)\n",
    "    \n",
    "    results = []\n",
    "    for e in ml.elementlist:\n",
    "        if e.nunknowns > 0:\n",
    "            results.append(pool.apply_async(e.equation))\n",
    "        if silent is False:\n",
    "            print('.', end='', flush=True)\n",
    "\n",
    "    pool.close()\n",
    "    pool.join()\n",
    "    \n",
    "    mat = np.empty((ml.neq, ml.neq, ml.npval), 'D')\n",
    "    rhs = np.empty((ml.neq, ml.ngvbc, ml.npval), 'D')\n",
    "\n",
    "    ieq = 0\n",
    "\n",
    "    for p in results:\n",
    "        imat, irhs = p.get()\n",
    "        nunknowns = imat.shape[0]\n",
    "        mat[ieq:ieq + nunknowns, :, :] = imat\n",
    "        rhs[ieq:ieq + nunknowns, :, :] = irhs\n",
    "        ieq += nunknowns\n",
    "\n",
    "    # end multiprocessing\n",
    "    \n",
    "    if returnmat:\n",
    "        return mat, rhs\n",
    "    for i in range(ml.npval):\n",
    "        sol = np.linalg.solve(mat[:, :, i], rhs[:, :, i])\n",
    "        icount = 0\n",
    "        for e in ml.elementlist:\n",
    "            for j in range(e.nunknowns):\n",
    "                e.parameters[:, j, i] = sol[icount, :]\n",
    "                icount += 1\n",
    "            e.run_after_solve()\n",
    "            \n",
    "    if silent is False:\n",
    "        print('solution complete')\n",
    "    elif (silent == 'dot') or (silent == '.'):\n",
    "        print('.', end='', flush=True)\n",
    "    if sendback:\n",
    "        return sol\n",
    "    return"
   ]
  },
  {
   "cell_type": "code",
   "execution_count": 8,
   "metadata": {},
   "outputs": [],
   "source": [
    "nprocs = [1, 2, 4, 6, 8, 12]"
   ]
  },
  {
   "cell_type": "code",
   "execution_count": 9,
   "metadata": {},
   "outputs": [],
   "source": [
    "df = pd.DataFrame(index=[\"Normal\"] + [f\"MP_{i}\" for i in nprocs], columns=[\"average time (s)\", \"ratio\"])"
   ]
  },
  {
   "cell_type": "code",
   "execution_count": 10,
   "metadata": {},
   "outputs": [
    {
     "name": "stdout",
     "output_type": "stream",
     "text": [
      "12.1 s ± 42.9 ms per loop (mean ± std. dev. of 7 runs, 1 loop each)\n"
     ]
    }
   ],
   "source": [
    "t0 = %timeit -o solve(ml, silent=True)"
   ]
  },
  {
   "cell_type": "code",
   "execution_count": 11,
   "metadata": {},
   "outputs": [],
   "source": [
    "df.loc[\"Normal\", \"average time (s)\"] = t0.average"
   ]
  },
  {
   "cell_type": "code",
   "execution_count": 12,
   "metadata": {},
   "outputs": [
    {
     "name": "stdout",
     "output_type": "stream",
     "text": [
      "----- Nproc = 1 -----\n",
      "12.6 s ± 115 ms per loop (mean ± std. dev. of 7 runs, 1 loop each)\n",
      "----- Nproc = 2 -----\n",
      "7.73 s ± 132 ms per loop (mean ± std. dev. of 7 runs, 1 loop each)\n",
      "----- Nproc = 4 -----\n",
      "5.48 s ± 87.6 ms per loop (mean ± std. dev. of 7 runs, 1 loop each)\n",
      "----- Nproc = 6 -----\n",
      "3.67 s ± 155 ms per loop (mean ± std. dev. of 7 runs, 1 loop each)\n",
      "----- Nproc = 8 -----\n",
      "3.67 s ± 78.3 ms per loop (mean ± std. dev. of 7 runs, 1 loop each)\n",
      "----- Nproc = 12 -----\n",
      "3.77 s ± 49.1 ms per loop (mean ± std. dev. of 7 runs, 1 loop each)\n"
     ]
    }
   ],
   "source": [
    "for nproc in nprocs:\n",
    "    print(\"-\"*5 + f\" Nproc = {nproc} \" + \"-\"*5)\n",
    "    tmp = %timeit -o solve_mp(ml, nproc=nproc, silent=True)\n",
    "    df.loc[f\"MP_{nproc}\", \"average time (s)\"] = tmp.average"
   ]
  },
  {
   "cell_type": "code",
   "execution_count": 13,
   "metadata": {},
   "outputs": [],
   "source": [
    "df.loc[:, \"ratio\"] = df.loc[\"Normal\", \"average time (s)\"] / df.loc[:, \"average time (s)\"]"
   ]
  },
  {
   "cell_type": "code",
   "execution_count": 35,
   "metadata": {},
   "outputs": [],
   "source": [
    "def cbg(col):\n",
    "    if col.name == \"ratio\":\n",
    "        cmap = mpl.cm.Greens\n",
    "    else:\n",
    "        cmap = mpl.cm.RdYlGn_r\n",
    "    norm = mpl.colors.LogNorm(vmin=col.min(), \n",
    "                              vmax=col.max())\n",
    "    colors = []\n",
    "    for val in col:\n",
    "        color = mpl.colors.rgb2hex(cmap(norm(val)))\n",
    "        colors.append(color)\n",
    "    return [f\"background-color: {color}\" for color in colors]\n",
    "\n",
    "def ctxt(col):\n",
    "    if col.name == \"ratio\":\n",
    "        cmap = mpl.cm.Greens\n",
    "    else:\n",
    "        cmap = mpl.cm.RdYlGn_r\n",
    "    norm = mpl.colors.LogNorm(vmin=col.min(), \n",
    "                              vmax=col.max())\n",
    "    colors = []\n",
    "    for val in col:\n",
    "        bg = cmap(norm(val))\n",
    "        c = \"White\" if np.mean(bg[:3]) < 0.4 else \"Black\"\n",
    "        colors.append(c)\n",
    "    return [f\"color: {c}\" for c in colors]\n",
    "\n",
    "def highlight_max(col):\n",
    "    '''\n",
    "    highlight the maximum in a Series yellow.\n",
    "    '''\n",
    "    if col.name == \"ratio\":\n",
    "        is_max = col == col.max()\n",
    "    else:\n",
    "        return [\"\"] * col.shape[0]\n",
    "    return ['color: yellow' if v else '' for v in is_max]"
   ]
  },
  {
   "cell_type": "code",
   "execution_count": 36,
   "metadata": {},
   "outputs": [
    {
     "data": {
      "text/html": [
       "<style  type=\"text/css\" >\n",
       "    #T_218ff020_a0ca_11ea_9a16_67a549a6eee9row0_col0 {\n",
       "            background-color:  #b50f26;\n",
       "            color:  White;\n",
       "            : ;\n",
       "        }    #T_218ff020_a0ca_11ea_9a16_67a549a6eee9row0_col1 {\n",
       "            background-color:  #f2faf0;\n",
       "            color:  Black;\n",
       "            : ;\n",
       "        }    #T_218ff020_a0ca_11ea_9a16_67a549a6eee9row1_col0 {\n",
       "            background-color:  #a50026;\n",
       "            color:  White;\n",
       "            : ;\n",
       "        }    #T_218ff020_a0ca_11ea_9a16_67a549a6eee9row1_col1 {\n",
       "            background-color:  #f7fcf5;\n",
       "            color:  Black;\n",
       "            : ;\n",
       "        }    #T_218ff020_a0ca_11ea_9a16_67a549a6eee9row2_col0 {\n",
       "            background-color:  #fede89;\n",
       "            color:  Black;\n",
       "            : ;\n",
       "        }    #T_218ff020_a0ca_11ea_9a16_67a549a6eee9row2_col1 {\n",
       "            background-color:  #99d595;\n",
       "            color:  Black;\n",
       "            : ;\n",
       "        }    #T_218ff020_a0ca_11ea_9a16_67a549a6eee9row3_col0 {\n",
       "            background-color:  #b3df72;\n",
       "            color:  Black;\n",
       "            : ;\n",
       "        }    #T_218ff020_a0ca_11ea_9a16_67a549a6eee9row3_col1 {\n",
       "            background-color:  #359e53;\n",
       "            color:  White;\n",
       "            : ;\n",
       "        }    #T_218ff020_a0ca_11ea_9a16_67a549a6eee9row4_col0 {\n",
       "            background-color:  #006837;\n",
       "            color:  White;\n",
       "            : ;\n",
       "        }    #T_218ff020_a0ca_11ea_9a16_67a549a6eee9row4_col1 {\n",
       "            background-color:  #00441b;\n",
       "            color:  White;\n",
       "            color:  yellow;\n",
       "        }    #T_218ff020_a0ca_11ea_9a16_67a549a6eee9row5_col0 {\n",
       "            background-color:  #006837;\n",
       "            color:  White;\n",
       "            : ;\n",
       "        }    #T_218ff020_a0ca_11ea_9a16_67a549a6eee9row5_col1 {\n",
       "            background-color:  #00441b;\n",
       "            color:  White;\n",
       "            : ;\n",
       "        }    #T_218ff020_a0ca_11ea_9a16_67a549a6eee9row6_col0 {\n",
       "            background-color:  #05713c;\n",
       "            color:  White;\n",
       "            : ;\n",
       "        }    #T_218ff020_a0ca_11ea_9a16_67a549a6eee9row6_col1 {\n",
       "            background-color:  #004a1e;\n",
       "            color:  White;\n",
       "            : ;\n",
       "        }</style><table id=\"T_218ff020_a0ca_11ea_9a16_67a549a6eee9\" ><caption>Run times</caption><thead>    <tr>        <th class=\"blank level0\" ></th>        <th class=\"col_heading level0 col0\" >average time (s)</th>        <th class=\"col_heading level0 col1\" >ratio</th>    </tr></thead><tbody>\n",
       "                <tr>\n",
       "                        <th id=\"T_218ff020_a0ca_11ea_9a16_67a549a6eee9level0_row0\" class=\"row_heading level0 row0\" >Normal</th>\n",
       "                        <td id=\"T_218ff020_a0ca_11ea_9a16_67a549a6eee9row0_col0\" class=\"data row0 col0\" >12.091002</td>\n",
       "                        <td id=\"T_218ff020_a0ca_11ea_9a16_67a549a6eee9row0_col1\" class=\"data row0 col1\" >1.000000</td>\n",
       "            </tr>\n",
       "            <tr>\n",
       "                        <th id=\"T_218ff020_a0ca_11ea_9a16_67a549a6eee9level0_row1\" class=\"row_heading level0 row1\" >MP_1</th>\n",
       "                        <td id=\"T_218ff020_a0ca_11ea_9a16_67a549a6eee9row1_col0\" class=\"data row1 col0\" >12.622878</td>\n",
       "                        <td id=\"T_218ff020_a0ca_11ea_9a16_67a549a6eee9row1_col1\" class=\"data row1 col1\" >0.957864</td>\n",
       "            </tr>\n",
       "            <tr>\n",
       "                        <th id=\"T_218ff020_a0ca_11ea_9a16_67a549a6eee9level0_row2\" class=\"row_heading level0 row2\" >MP_2</th>\n",
       "                        <td id=\"T_218ff020_a0ca_11ea_9a16_67a549a6eee9row2_col0\" class=\"data row2 col0\" >7.730337</td>\n",
       "                        <td id=\"T_218ff020_a0ca_11ea_9a16_67a549a6eee9row2_col1\" class=\"data row2 col1\" >1.564098</td>\n",
       "            </tr>\n",
       "            <tr>\n",
       "                        <th id=\"T_218ff020_a0ca_11ea_9a16_67a549a6eee9level0_row3\" class=\"row_heading level0 row3\" >MP_4</th>\n",
       "                        <td id=\"T_218ff020_a0ca_11ea_9a16_67a549a6eee9row3_col0\" class=\"data row3 col0\" >5.480398</td>\n",
       "                        <td id=\"T_218ff020_a0ca_11ea_9a16_67a549a6eee9row3_col1\" class=\"data row3 col1\" >2.206227</td>\n",
       "            </tr>\n",
       "            <tr>\n",
       "                        <th id=\"T_218ff020_a0ca_11ea_9a16_67a549a6eee9level0_row4\" class=\"row_heading level0 row4\" >MP_6</th>\n",
       "                        <td id=\"T_218ff020_a0ca_11ea_9a16_67a549a6eee9row4_col0\" class=\"data row4 col0\" >3.666696</td>\n",
       "                        <td id=\"T_218ff020_a0ca_11ea_9a16_67a549a6eee9row4_col1\" class=\"data row4 col1\" >3.297520</td>\n",
       "            </tr>\n",
       "            <tr>\n",
       "                        <th id=\"T_218ff020_a0ca_11ea_9a16_67a549a6eee9level0_row5\" class=\"row_heading level0 row5\" >MP_8</th>\n",
       "                        <td id=\"T_218ff020_a0ca_11ea_9a16_67a549a6eee9row5_col0\" class=\"data row5 col0\" >3.668591</td>\n",
       "                        <td id=\"T_218ff020_a0ca_11ea_9a16_67a549a6eee9row5_col1\" class=\"data row5 col1\" >3.295817</td>\n",
       "            </tr>\n",
       "            <tr>\n",
       "                        <th id=\"T_218ff020_a0ca_11ea_9a16_67a549a6eee9level0_row6\" class=\"row_heading level0 row6\" >MP_12</th>\n",
       "                        <td id=\"T_218ff020_a0ca_11ea_9a16_67a549a6eee9row6_col0\" class=\"data row6 col0\" >3.766178</td>\n",
       "                        <td id=\"T_218ff020_a0ca_11ea_9a16_67a549a6eee9row6_col1\" class=\"data row6 col1\" >3.210417</td>\n",
       "            </tr>\n",
       "    </tbody></table>"
      ],
      "text/plain": [
       "<pandas.io.formats.style.Styler at 0x7feea4b202d0>"
      ]
     },
     "execution_count": 36,
     "metadata": {},
     "output_type": "execute_result"
    }
   ],
   "source": [
    "df.style.apply(cbg, axis=0).apply(ctxt, axis=0).apply(highlight_max).set_caption(\"Run times\")"
   ]
  },
  {
   "cell_type": "code",
   "execution_count": null,
   "metadata": {},
   "outputs": [],
   "source": []
  }
 ],
 "metadata": {
  "kernelspec": {
   "display_name": "Python 3",
   "language": "python",
   "name": "python3"
  },
  "language_info": {
   "codemirror_mode": {
    "name": "ipython",
    "version": 3
   },
   "file_extension": ".py",
   "mimetype": "text/x-python",
   "name": "python",
   "nbconvert_exporter": "python",
   "pygments_lexer": "ipython3",
   "version": "3.7.6"
  },
  "widgets": {
   "state": {},
   "version": "1.1.2"
  }
 },
 "nbformat": 4,
 "nbformat_minor": 4
}
